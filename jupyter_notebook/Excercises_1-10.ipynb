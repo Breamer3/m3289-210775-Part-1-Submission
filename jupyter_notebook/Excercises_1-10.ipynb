{
 "cells": [
  {
   "cell_type": "code",
   "execution_count": 14,
   "metadata": {},
   "outputs": [],
   "source": [
    "import numpy as np\n",
    "import math\n",
    "import random\n",
    "from PIL import Image\n"
   ]
  },
  {
   "cell_type": "markdown",
   "metadata": {},
   "source": [
    "Excercise 1 --- Check if a number is prime. "
   ]
  },
  {
   "cell_type": "code",
   "execution_count": 15,
   "metadata": {},
   "outputs": [
    {
     "name": "stdout",
     "output_type": "stream",
     "text": [
      "This is a prime number\n"
     ]
    }
   ],
   "source": [
    "def is_prime(n):\n",
    "    if n < 2:\n",
    "        return False\n",
    "    for i in range(2, int(math.sqrt(n)) + 1):\n",
    "        if n % i == 0:\n",
    "            return False\n",
    "    return True\n",
    "\n",
    "num = int(input(\"Enter a number: \"))\n",
    "print(\"This is a prime number\" if is_prime(num) else \"This is not a prime number\")"
   ]
  },
  {
   "cell_type": "markdown",
   "metadata": {},
   "source": [
    "Excercise 2 --- Fibonacci sequence."
   ]
  },
  {
   "cell_type": "code",
   "execution_count": null,
   "metadata": {},
   "outputs": [],
   "source": [
    "n = int(input(\"Enter the number of Fibonacci terms: \"))\n",
    "a, b = 0, 1\n",
    "for _ in range(n):\n",
    "    print(a, end=\" \")\n",
    "    a, b = b, a + b\n",
    "print()"
   ]
  },
  {
   "cell_type": "markdown",
   "metadata": {},
   "source": [
    "Excercise 3 --- Print decreasing triangle pattern."
   ]
  },
  {
   "cell_type": "code",
   "execution_count": 16,
   "metadata": {},
   "outputs": [
    {
     "name": "stdout",
     "output_type": "stream",
     "text": [
      "* * * * * \n",
      "* * * * \n",
      "* * * \n",
      "* * \n",
      "* \n"
     ]
    }
   ],
   "source": [
    "rows = 5\n",
    "for i in range(rows, 0, -1):\n",
    "    print(\"* \" * i)\n"
   ]
  },
  {
   "cell_type": "markdown",
   "metadata": {},
   "source": [
    "Excercise 4 --- Reverse a string."
   ]
  },
  {
   "cell_type": "code",
   "execution_count": 18,
   "metadata": {},
   "outputs": [
    {
     "name": "stdout",
     "output_type": "stream",
     "text": [
      "Reversed string: olleh\n"
     ]
    }
   ],
   "source": [
    "def reverse_string():\n",
    "    s = input(\"Enter a string: \")\n",
    "    print(\"Reversed string:\", s[::-1])\n",
    "reverse_string()"
   ]
  },
  {
   "cell_type": "markdown",
   "metadata": {},
   "source": [
    "Excercise 5 --- Min and max function."
   ]
  },
  {
   "cell_type": "code",
   "execution_count": 21,
   "metadata": {},
   "outputs": [],
   "source": [
    "def find_min_max(iterable):\n",
    "    return min(iterable), max(iterable)"
   ]
  },
  {
   "cell_type": "markdown",
   "metadata": {},
   "source": [
    "Excercise 6 --- Guess the number."
   ]
  },
  {
   "cell_type": "code",
   "execution_count": 22,
   "metadata": {},
   "outputs": [
    {
     "name": "stdout",
     "output_type": "stream",
     "text": [
      "Too low! Try again.\n",
      "Correct! You win!\n"
     ]
    }
   ],
   "source": [
    "target = random.randint(1, 10)\n",
    "while True:\n",
    "    guess = int(input(\"Guess a number (1-10): \"))\n",
    "    if guess < target:\n",
    "        print(\"Too low! Try again.\")\n",
    "    elif guess > target:\n",
    "        print(\"Too high! Try again.\")\n",
    "    else:\n",
    "        print(\"Correct! You win!\")\n",
    "        break"
   ]
  },
  {
   "cell_type": "markdown",
   "metadata": {},
   "source": [
    "Excercise 7 --- Password checker."
   ]
  },
  {
   "cell_type": "code",
   "execution_count": 23,
   "metadata": {},
   "outputs": [
    {
     "name": "stdout",
     "output_type": "stream",
     "text": [
      "Incorrect password. Try again.\n",
      "Incorrect password. Try again.\n",
      "Access Granted!\n"
     ]
    }
   ],
   "source": [
    "correct_password = \"Python123\"\n",
    "while True:\n",
    "    password = input(\"Enter password: \")\n",
    "    if password == correct_password:\n",
    "        print(\"Access Granted!\")\n",
    "        break\n",
    "    else:\n",
    "        print(\"Incorrect password. Try again.\")"
   ]
  },
  {
   "cell_type": "markdown",
   "metadata": {},
   "source": [
    "Excercise 8 --- Series calculation."
   ]
  },
  {
   "cell_type": "code",
   "execution_count": 29,
   "metadata": {},
   "outputs": [
    {
     "name": "stdout",
     "output_type": "stream",
     "text": [
      "Series result: 432.2916666666667\n"
     ]
    }
   ],
   "source": [
    "def series_sum(x, N):\n",
    "    total = 0\n",
    "    for i in range(1, N+1):\n",
    "        total += x * (5**i)**2 / (i + math.factorial(i+1))\n",
    "    return total\n",
    "\n",
    "x = float(input(\"Enter x: \"))\n",
    "N = int(input(\"Enter N: \"))\n",
    "print(\"Series result:\", series_sum(x, N))"
   ]
  },
  {
   "cell_type": "markdown",
   "metadata": {},
   "source": [
    "Excercise 9 --- Image manipulation"
   ]
  },
  {
   "cell_type": "code",
   "execution_count": 30,
   "metadata": {},
   "outputs": [
    {
     "ename": "FileNotFoundError",
     "evalue": "[Errno 2] No such file or directory: '/workspaces/m3289-210775-Part-1-Submission/jupyter_notebook/your_image.jpg'",
     "output_type": "error",
     "traceback": [
      "\u001b[0;31m---------------------------------------------------------------------------\u001b[0m",
      "\u001b[0;31mFileNotFoundError\u001b[0m                         Traceback (most recent call last)",
      "Cell \u001b[0;32mIn[30], line 1\u001b[0m\n\u001b[0;32m----> 1\u001b[0m img \u001b[38;5;241m=\u001b[39m \u001b[43mImage\u001b[49m\u001b[38;5;241;43m.\u001b[39;49m\u001b[43mopen\u001b[49m\u001b[43m(\u001b[49m\u001b[38;5;124;43m\"\u001b[39;49m\u001b[38;5;124;43myour_image.jpg\u001b[39;49m\u001b[38;5;124;43m\"\u001b[39;49m\u001b[43m)\u001b[49m\n\u001b[1;32m      2\u001b[0m img_array \u001b[38;5;241m=\u001b[39m np\u001b[38;5;241m.\u001b[39marray(img)\n\u001b[1;32m      3\u001b[0m horizontal_flip \u001b[38;5;241m=\u001b[39m np\u001b[38;5;241m.\u001b[39mfliplr(img_array)\n",
      "File \u001b[0;32m~/.local/lib/python3.12/site-packages/PIL/Image.py:3469\u001b[0m, in \u001b[0;36mopen\u001b[0;34m(fp, mode, formats)\u001b[0m\n\u001b[1;32m   3466\u001b[0m     filename \u001b[38;5;241m=\u001b[39m os\u001b[38;5;241m.\u001b[39mpath\u001b[38;5;241m.\u001b[39mrealpath(os\u001b[38;5;241m.\u001b[39mfspath(fp))\n\u001b[1;32m   3468\u001b[0m \u001b[38;5;28;01mif\u001b[39;00m filename:\n\u001b[0;32m-> 3469\u001b[0m     fp \u001b[38;5;241m=\u001b[39m \u001b[43mbuiltins\u001b[49m\u001b[38;5;241;43m.\u001b[39;49m\u001b[43mopen\u001b[49m\u001b[43m(\u001b[49m\u001b[43mfilename\u001b[49m\u001b[43m,\u001b[49m\u001b[43m \u001b[49m\u001b[38;5;124;43m\"\u001b[39;49m\u001b[38;5;124;43mrb\u001b[39;49m\u001b[38;5;124;43m\"\u001b[39;49m\u001b[43m)\u001b[49m\n\u001b[1;32m   3470\u001b[0m     exclusive_fp \u001b[38;5;241m=\u001b[39m \u001b[38;5;28;01mTrue\u001b[39;00m\n\u001b[1;32m   3471\u001b[0m \u001b[38;5;28;01melse\u001b[39;00m:\n",
      "\u001b[0;31mFileNotFoundError\u001b[0m: [Errno 2] No such file or directory: '/workspaces/m3289-210775-Part-1-Submission/jupyter_notebook/your_image.jpg'"
     ]
    }
   ],
   "source": [
    "img = Image.open(\"your_image.jpg\")\n",
    "img_array = np.array(img)\n",
    "horizontal_flip = np.fliplr(img_array)\n",
    "vertical_flip = np.flipud(img_array)\n",
    "Image.fromarray(horizontal_flip).show()\n",
    "Image.fromarray(vertical_flip).show()"
   ]
  },
  {
   "cell_type": "markdown",
   "metadata": {},
   "source": [
    "Excercise 10 --- Temperature analysis."
   ]
  },
  {
   "cell_type": "code",
   "execution_count": 31,
   "metadata": {},
   "outputs": [
    {
     "name": "stdout",
     "output_type": "stream",
     "text": [
      "Min Temp: 18\n",
      "Max Temp: 30\n",
      "Avg Temp: 23.133333333333333\n",
      "Temperatures in Fahrenheit: [71.6 75.2 66.2 69.8 73.4 77.  78.8 80.6 75.2 73.4 68.  71.6 69.8 66.2\n",
      " 64.4 71.6 73.4 75.2 78.8 82.4 86.  80.6 77.  78.8 75.2 71.6 69.8 68.\n",
      " 66.2 73.4]\n",
      "Days above 25°C: [26 27 26 28 30 27 26]\n",
      "Days below 20°C: 4\n",
      "Sorted temperatures: [18 19 19 19 20 20 21 21 21 22 22 22 22 23 23 23 23 24 24 24 24 25 25 26\n",
      " 26 26 27 27 28 30]\n",
      "Reshaped array:\n",
      "[[22 24 19 21 23 25]\n",
      " [26 27 24 23 20 22]\n",
      " [21 19 18 22 23 24]\n",
      " [26 28 30 27 25 26]\n",
      " [24 22 21 20 19 23]]\n"
     ]
    }
   ],
   "source": [
    "temps = np.array([22, 24, 19, 21, 23, 25, 26, 27, 24, 23, 20, 22, 21, 19, 18, 22, 23, 24, 26, 28, 30, 27, 25, 26, 24, 22, 21, 20, 19, 23])\n",
    "print(\"Min Temp:\", np.min(temps))\n",
    "print(\"Max Temp:\", np.max(temps))\n",
    "print(\"Avg Temp:\", np.mean(temps))\n",
    "temps_fahrenheit = temps * 9/5 + 32\n",
    "print(\"Temperatures in Fahrenheit:\", temps_fahrenheit)\n",
    "print(\"Days above 25°C:\", temps[temps > 25])\n",
    "print(\"Days below 20°C:\", np.sum(temps < 20))\n",
    "print(\"Sorted temperatures:\", np.sort(temps))\n",
    "temps_reshaped = temps.reshape(5, 6)\n",
    "print(\"Reshaped array:\")\n",
    "print(temps_reshaped)"
   ]
  }
 ],
 "metadata": {
  "kernelspec": {
   "display_name": "Python 3",
   "language": "python",
   "name": "python3"
  },
  "language_info": {
   "codemirror_mode": {
    "name": "ipython",
    "version": 3
   },
   "file_extension": ".py",
   "mimetype": "text/x-python",
   "name": "python",
   "nbconvert_exporter": "python",
   "pygments_lexer": "ipython3",
   "version": "3.12.1"
  }
 },
 "nbformat": 4,
 "nbformat_minor": 2
}
